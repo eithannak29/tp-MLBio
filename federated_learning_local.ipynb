{
 "cells": [
  {
   "cell_type": "code",
   "execution_count": 27,
   "metadata": {},
   "outputs": [],
   "source": [
    "import torch\n",
    "import torch.nn as nn\n",
    "import torch.optim as optim\n",
    "from pytorch_lightning import LightningDataModule, LightningModule, Trainer\n",
    "from torch.utils.data import random_split, DataLoader\n",
    "from torchvision import datasets, transforms\n",
    "import matplotlib.pyplot as plt\n"
   ]
  },
  {
   "cell_type": "code",
   "execution_count": 20,
   "metadata": {},
   "outputs": [],
   "source": [
    "\n",
    "class MNISTDataModule(LightningDataModule):\n",
    "    def __init__(self, batch_size=50):\n",
    "        super().__init__()\n",
    "        self.batch_size = batch_size\n",
    "\n",
    "    def prepare_data(self):\n",
    "        datasets.MNIST(root='./data', train=True, download=True)\n",
    "\n",
    "    def setup(self, stage=None):\n",
    "        transform = transforms.Compose([transforms.ToTensor(), transforms.Normalize((0.5,), (0.5,))])\n",
    "        full_dataset = datasets.MNIST(root='./data', train=True, transform=transform)\n",
    "        self.subset1, self.subset2 = random_split(full_dataset, [600, len(full_dataset) - 600])\n",
    "\n",
    "    def train_dataloader(self, subset=1):\n",
    "        subset = self.subset1 if subset == 1 else self.subset2\n",
    "        return DataLoader(subset, batch_size=self.batch_size, shuffle=True)"
   ]
  },
  {
   "cell_type": "code",
   "execution_count": 21,
   "metadata": {},
   "outputs": [],
   "source": [
    "class CNN(LightningModule):\n",
    "    def __init__(self):\n",
    "        super().__init__()\n",
    "        self.conv1 = nn.Conv2d(1, 32, kernel_size=3, stride=1, padding=1)\n",
    "        self.conv2 = nn.Conv2d(32, 64, kernel_size=3, stride=1, padding=1)\n",
    "        self.fc1 = nn.Linear(64 * 7 * 7, 128) \n",
    "        self.fc2 = nn.Linear(128, 10)\n",
    "        self.criterion = nn.CrossEntropyLoss()\n",
    "\n",
    "    def forward(self, x):\n",
    "        x = nn.ReLU()(self.conv1(x))\n",
    "        x = nn.MaxPool2d(2)(x)\n",
    "        x = nn.ReLU()(self.conv2(x))\n",
    "        x = nn.MaxPool2d(2)(x)\n",
    "        x = x.view(x.size(0), -1)\n",
    "        x = nn.ReLU()(self.fc1(x))\n",
    "        x = self.fc2(x)\n",
    "        return x\n",
    "\n",
    "    def training_step(self, batch, batch_idx):\n",
    "        inputs, targets = batch\n",
    "        outputs = self(inputs)\n",
    "        loss = self.criterion(outputs, targets)\n",
    "        return loss\n",
    "\n",
    "    def configure_optimizers(self):\n",
    "        return optim.SGD(self.parameters(), lr=0.01)\n"
   ]
  },
  {
   "cell_type": "code",
   "execution_count": 12,
   "metadata": {},
   "outputs": [],
   "source": [
    "def average_model_parameters(models, average_weights):\n",
    "    averaged_params = {}\n",
    "    for key in models[0].state_dict().keys():\n",
    "        averaged_params[key] = sum(\n",
    "            weight * models[i].state_dict()[key]\n",
    "            for i, weight in enumerate(average_weights)\n",
    "        )\n",
    "    return averaged_params"
   ]
  },
  {
   "cell_type": "code",
   "execution_count": 13,
   "metadata": {},
   "outputs": [],
   "source": [
    "data_module = MNISTDataModule(batch_size=50)\n",
    "data_module.prepare_data()\n",
    "data_module.setup()"
   ]
  },
  {
   "cell_type": "code",
   "execution_count": null,
   "metadata": {},
   "outputs": [
    {
     "name": "stderr",
     "output_type": "stream",
     "text": [
      "GPU available: True (mps), used: True\n",
      "TPU available: False, using: 0 TPU cores\n",
      "HPU available: False, using: 0 HPUs\n",
      "\n",
      "  | Name      | Type             | Params | Mode \n",
      "-------------------------------------------------------\n",
      "0 | conv1     | Conv2d           | 320    | train\n",
      "1 | conv2     | Conv2d           | 18.5 K | train\n",
      "2 | fc1       | Linear           | 401 K  | train\n",
      "3 | fc2       | Linear           | 1.3 K  | train\n",
      "4 | criterion | CrossEntropyLoss | 0      | train\n",
      "-------------------------------------------------------\n",
      "421 K     Trainable params\n",
      "0         Non-trainable params\n",
      "421 K     Total params\n",
      "1.687     Total estimated model params size (MB)\n",
      "5         Modules in train mode\n",
      "0         Modules in eval mode\n",
      "/opt/homebrew/Caskroom/miniforge/base/lib/python3.10/site-packages/pytorch_lightning/trainer/connectors/data_connector.py:425: The 'train_dataloader' does not have many workers which may be a bottleneck. Consider increasing the value of the `num_workers` argument` to `num_workers=7` in the `DataLoader` to improve performance.\n",
      "/opt/homebrew/Caskroom/miniforge/base/lib/python3.10/site-packages/pytorch_lightning/loops/fit_loop.py:310: The number of training batches (12) is smaller than the logging interval Trainer(log_every_n_steps=50). Set a lower value for log_every_n_steps if you want to see logs for the training epoch.\n"
     ]
    },
    {
     "name": "stdout",
     "output_type": "stream",
     "text": [
      "Epoch 0: 100%|██████████| 12/12 [00:00<00:00, 69.45it/s, v_num=2]"
     ]
    },
    {
     "name": "stderr",
     "output_type": "stream",
     "text": [
      "`Trainer.fit` stopped: `max_epochs=1` reached.\n"
     ]
    },
    {
     "name": "stdout",
     "output_type": "stream",
     "text": [
      "Epoch 0: 100%|██████████| 12/12 [00:00<00:00, 66.86it/s, v_num=2]"
     ]
    },
    {
     "name": "stderr",
     "output_type": "stream",
     "text": [
      "GPU available: True (mps), used: True\n",
      "TPU available: False, using: 0 TPU cores\n",
      "HPU available: False, using: 0 HPUs\n",
      "\n",
      "  | Name      | Type             | Params | Mode \n",
      "-------------------------------------------------------\n",
      "0 | conv1     | Conv2d           | 320    | train\n",
      "1 | conv2     | Conv2d           | 18.5 K | train\n",
      "2 | fc1       | Linear           | 401 K  | train\n",
      "3 | fc2       | Linear           | 1.3 K  | train\n",
      "4 | criterion | CrossEntropyLoss | 0      | train\n",
      "-------------------------------------------------------\n",
      "421 K     Trainable params\n",
      "0         Non-trainable params\n",
      "421 K     Total params\n",
      "1.687     Total estimated model params size (MB)\n",
      "5         Modules in train mode\n",
      "0         Modules in eval mode\n"
     ]
    },
    {
     "name": "stdout",
     "output_type": "stream",
     "text": [
      "\n",
      "Epoch 0: 100%|██████████| 1188/1188 [00:10<00:00, 118.39it/s, v_num=3]"
     ]
    },
    {
     "name": "stderr",
     "output_type": "stream",
     "text": [
      "`Trainer.fit` stopped: `max_epochs=1` reached.\n"
     ]
    },
    {
     "name": "stdout",
     "output_type": "stream",
     "text": [
      "Epoch 0: 100%|██████████| 1188/1188 [00:10<00:00, 118.32it/s, v_num=3]\n",
      "Accuracy Model 1 (Before Update): 0.14\n",
      "Accuracy Model 2 (Before Update): 0.93\n",
      "Accuracy Model 1 (After Update): 0.76\n",
      "Accuracy Model 2 (After Update): 0.74\n"
     ]
    }
   ],
   "source": [
    "data_module = MNISTDataModule(batch_size=50)\n",
    "data_module.prepare_data()\n",
    "data_module.setup()\n",
    "\n",
    "model1 = CNN()\n",
    "model2 = CNN()\n"
   ]
  },
  {
   "cell_type": "code",
   "execution_count": 14,
   "metadata": {},
   "outputs": [
    {
     "name": "stderr",
     "output_type": "stream",
     "text": [
      "GPU available: True (mps), used: True\n",
      "TPU available: False, using: 0 TPU cores\n",
      "HPU available: False, using: 0 HPUs\n",
      "\n",
      "  | Name      | Type             | Params | Mode\n",
      "------------------------------------------------------\n",
      "0 | conv1     | Conv2d           | 320    | eval\n",
      "1 | conv2     | Conv2d           | 18.5 K | eval\n",
      "2 | fc1       | Linear           | 401 K  | eval\n",
      "3 | fc2       | Linear           | 1.3 K  | eval\n",
      "4 | criterion | CrossEntropyLoss | 0      | eval\n",
      "------------------------------------------------------\n",
      "421 K     Trainable params\n",
      "0         Non-trainable params\n",
      "421 K     Total params\n",
      "1.687     Total estimated model params size (MB)\n",
      "0         Modules in train mode\n",
      "5         Modules in eval mode\n"
     ]
    },
    {
     "name": "stdout",
     "output_type": "stream",
     "text": [
      "Epoch 0: 100%|██████████| 12/12 [00:00<00:00, 80.03it/s, v_num=4]"
     ]
    },
    {
     "name": "stderr",
     "output_type": "stream",
     "text": [
      "`Trainer.fit` stopped: `max_epochs=1` reached.\n"
     ]
    },
    {
     "name": "stdout",
     "output_type": "stream",
     "text": [
      "Epoch 0: 100%|██████████| 12/12 [00:00<00:00, 75.72it/s, v_num=4]"
     ]
    },
    {
     "name": "stderr",
     "output_type": "stream",
     "text": [
      "GPU available: True (mps), used: True\n",
      "TPU available: False, using: 0 TPU cores\n",
      "HPU available: False, using: 0 HPUs\n",
      "\n",
      "  | Name      | Type             | Params | Mode\n",
      "------------------------------------------------------\n",
      "0 | conv1     | Conv2d           | 320    | eval\n",
      "1 | conv2     | Conv2d           | 18.5 K | eval\n",
      "2 | fc1       | Linear           | 401 K  | eval\n",
      "3 | fc2       | Linear           | 1.3 K  | eval\n",
      "4 | criterion | CrossEntropyLoss | 0      | eval\n",
      "------------------------------------------------------\n",
      "421 K     Trainable params\n",
      "0         Non-trainable params\n",
      "421 K     Total params\n",
      "1.687     Total estimated model params size (MB)\n",
      "0         Modules in train mode\n",
      "5         Modules in eval mode\n"
     ]
    },
    {
     "name": "stdout",
     "output_type": "stream",
     "text": [
      "\n",
      "Epoch 0: 100%|██████████| 1188/1188 [00:10<00:00, 117.50it/s, v_num=5]"
     ]
    },
    {
     "name": "stderr",
     "output_type": "stream",
     "text": [
      "`Trainer.fit` stopped: `max_epochs=1` reached.\n"
     ]
    },
    {
     "name": "stdout",
     "output_type": "stream",
     "text": [
      "Epoch 0: 100%|██████████| 1188/1188 [00:10<00:00, 117.36it/s, v_num=5]\n"
     ]
    }
   ],
   "source": [
    "# Entraîner chaque modèle localement\n",
    "trainer1 = Trainer(max_epochs=1)\n",
    "trainer1.fit(model1, train_dataloaders=data_module.train_dataloader(subset=1))\n",
    "\n",
    "trainer2 = Trainer(max_epochs=1)\n",
    "trainer2.fit(model2, train_dataloaders=data_module.train_dataloader(subset=2))"
   ]
  },
  {
   "cell_type": "code",
   "execution_count": null,
   "metadata": {},
   "outputs": [],
   "source": [
    "def evaluate_model(model, dataloader):\n",
    "    model.eval()\n",
    "    correct, total = 0, 0\n",
    "    with torch.no_grad():\n",
    "        for inputs, targets in dataloader:\n",
    "            outputs = model(inputs)\n",
    "            _, predicted = torch.max(outputs, 1)\n",
    "            correct += (predicted == targets).sum().item()\n",
    "            total += targets.size(0)\n",
    "    return correct / total"
   ]
  },
  {
   "cell_type": "code",
   "execution_count": 15,
   "metadata": {},
   "outputs": [
    {
     "name": "stdout",
     "output_type": "stream",
     "text": [
      "Accuracy Model 1 (Before Update): 0.89\n",
      "Accuracy Model 2 (Before Update): 0.95\n",
      "--------------------------------------------------\n",
      "Accuracy Model 1 (After Update): 0.93\n",
      "Accuracy Model 2 (After Update): 0.94\n"
     ]
    }
   ],
   "source": [
    "accuracy1_before = evaluate_model(model1, data_module.train_dataloader(subset=1))\n",
    "accuracy2_before = evaluate_model(model2, data_module.train_dataloader(subset=2))\n",
    "\n",
    "print(f\"Accuracy Model 1 (Before Update): {accuracy1_before:.2f}\")\n",
    "print(f\"Accuracy Model 2 (Before Update): {accuracy2_before:.2f}\")\n",
    "\n",
    "averaged_params = average_model_parameters([model1, model2], [0.5, 0.5])\n",
    "\n",
    "model1.load_state_dict(averaged_params)\n",
    "model2.load_state_dict(averaged_params)\n",
    "\n",
    "accuracy1_after = evaluate_model(model1, data_module.train_dataloader(subset=1))\n",
    "accuracy2_after = evaluate_model(model2, data_module.train_dataloader(subset=2))\n",
    "\n",
    "print(50*\"-\")\n",
    "print(f\"Accuracy Model 1 (After Update): {accuracy1_after:.2f}\")\n",
    "print(f\"Accuracy Model 2 (After Update): {accuracy2_after:.2f}\")"
   ]
  },
  {
   "cell_type": "markdown",
   "metadata": {},
   "source": [
    "# Initialisation avec les parametres communs"
   ]
  },
  {
   "cell_type": "code",
   "execution_count": 22,
   "metadata": {},
   "outputs": [],
   "source": [
    "def initialize_common_parameters(model1, model2):\n",
    "    model2.load_state_dict(model1.state_dict())"
   ]
  },
  {
   "cell_type": "code",
   "execution_count": 23,
   "metadata": {},
   "outputs": [
    {
     "name": "stderr",
     "output_type": "stream",
     "text": [
      "GPU available: True (mps), used: True\n",
      "TPU available: False, using: 0 TPU cores\n",
      "HPU available: False, using: 0 HPUs\n",
      "GPU available: True (mps), used: True\n",
      "TPU available: False, using: 0 TPU cores\n",
      "HPU available: False, using: 0 HPUs\n",
      "\n",
      "  | Name      | Type             | Params | Mode \n",
      "-------------------------------------------------------\n",
      "0 | conv1     | Conv2d           | 320    | train\n",
      "1 | conv2     | Conv2d           | 18.5 K | train\n",
      "2 | fc1       | Linear           | 401 K  | train\n",
      "3 | fc2       | Linear           | 1.3 K  | train\n",
      "4 | criterion | CrossEntropyLoss | 0      | train\n",
      "-------------------------------------------------------\n",
      "421 K     Trainable params\n",
      "0         Non-trainable params\n",
      "421 K     Total params\n",
      "1.687     Total estimated model params size (MB)\n",
      "5         Modules in train mode\n",
      "0         Modules in eval mode\n",
      "/opt/homebrew/Caskroom/miniforge/base/lib/python3.10/site-packages/pytorch_lightning/trainer/connectors/data_connector.py:425: The 'train_dataloader' does not have many workers which may be a bottleneck. Consider increasing the value of the `num_workers` argument` to `num_workers=7` in the `DataLoader` to improve performance.\n",
      "/opt/homebrew/Caskroom/miniforge/base/lib/python3.10/site-packages/pytorch_lightning/loops/fit_loop.py:310: The number of training batches (12) is smaller than the logging interval Trainer(log_every_n_steps=50). Set a lower value for log_every_n_steps if you want to see logs for the training epoch.\n"
     ]
    },
    {
     "name": "stdout",
     "output_type": "stream",
     "text": [
      "Epoch 0: 100%|██████████| 12/12 [00:00<00:00, 63.46it/s, v_num=6]"
     ]
    },
    {
     "name": "stderr",
     "output_type": "stream",
     "text": [
      "`Trainer.fit` stopped: `max_epochs=1` reached.\n"
     ]
    },
    {
     "name": "stdout",
     "output_type": "stream",
     "text": [
      "Epoch 0: 100%|██████████| 12/12 [00:00<00:00, 60.33it/s, v_num=6]\n"
     ]
    },
    {
     "name": "stderr",
     "output_type": "stream",
     "text": [
      "\n",
      "  | Name      | Type             | Params | Mode \n",
      "-------------------------------------------------------\n",
      "0 | conv1     | Conv2d           | 320    | train\n",
      "1 | conv2     | Conv2d           | 18.5 K | train\n",
      "2 | fc1       | Linear           | 401 K  | train\n",
      "3 | fc2       | Linear           | 1.3 K  | train\n",
      "4 | criterion | CrossEntropyLoss | 0      | train\n",
      "-------------------------------------------------------\n",
      "421 K     Trainable params\n",
      "0         Non-trainable params\n",
      "421 K     Total params\n",
      "1.687     Total estimated model params size (MB)\n",
      "5         Modules in train mode\n",
      "0         Modules in eval mode\n"
     ]
    },
    {
     "name": "stdout",
     "output_type": "stream",
     "text": [
      "Epoch 0: 100%|██████████| 1188/1188 [00:09<00:00, 122.69it/s, v_num=7]"
     ]
    },
    {
     "name": "stderr",
     "output_type": "stream",
     "text": [
      "`Trainer.fit` stopped: `max_epochs=1` reached.\n"
     ]
    },
    {
     "name": "stdout",
     "output_type": "stream",
     "text": [
      "Epoch 0: 100%|██████████| 1188/1188 [00:09<00:00, 122.62it/s, v_num=7]\n",
      "Accuracy Model 1 (Before Averaging, Common Init): 0.18\n",
      "Accuracy Model 2 (Before Averaging, Common Init): 0.94\n",
      "Accuracy Model 1 (After Averaging, Common Init): 0.92\n",
      "Accuracy Model 2 (After Averaging, Common Init): 0.92\n"
     ]
    }
   ],
   "source": [
    "model1 = CNN()\n",
    "model2 = CNN()\n",
    "\n",
    "initialize_common_parameters(model1, model2)\n",
    "\n",
    "trainer1 = Trainer(max_epochs=1)\n",
    "trainer2 = Trainer(max_epochs=1)\n",
    "\n",
    "trainer1.fit(model1, train_dataloaders=data_module.train_dataloader(subset=1))\n",
    "\n",
    "trainer2.fit(model2, train_dataloaders=data_module.train_dataloader(subset=2))\n"
   ]
  },
  {
   "cell_type": "code",
   "execution_count": 25,
   "metadata": {},
   "outputs": [
    {
     "name": "stdout",
     "output_type": "stream",
     "text": [
      "Accuracy Model 1 (Before Averaging, Common Init): 0.92\n",
      "Accuracy Model 2 (Before Averaging, Common Init): 0.92\n",
      "Accuracy Model 1 (After Averaging, Common Init): 0.92\n",
      "Accuracy Model 2 (After Averaging, Common Init): 0.92\n"
     ]
    }
   ],
   "source": [
    "accuracy1_before = evaluate_model(model1, data_module.train_dataloader(subset=1))\n",
    "accuracy2_before = evaluate_model(model2, data_module.train_dataloader(subset=2))\n",
    "\n",
    "print(f\"Accuracy Model 1 (Before Averaging, Common Init): {accuracy1_before:.2f}\")\n",
    "print(f\"Accuracy Model 2 (Before Averaging, Common Init): {accuracy2_before:.2f}\")\n",
    "\n",
    "averaged_params = average_model_parameters([model1, model2], [0.5, 0.5])\n",
    "\n",
    "model1.load_state_dict(averaged_params)\n",
    "model2.load_state_dict(averaged_params)\n",
    "\n",
    "accuracy1_after = evaluate_model(model1, data_module.train_dataloader(subset=1))\n",
    "accuracy2_after = evaluate_model(model2, data_module.train_dataloader(subset=2))\n",
    "\n",
    "print(f\"Accuracy Model 1 (After Averaging, Common Init): {accuracy1_after:.2f}\")\n",
    "print(f\"Accuracy Model 2 (After Averaging, Common Init): {accuracy2_after:.2f}\")"
   ]
  },
  {
   "cell_type": "markdown",
   "metadata": {},
   "source": [
    "# Differentes Batch Size"
   ]
  },
  {
   "cell_type": "code",
   "execution_count": 26,
   "metadata": {},
   "outputs": [],
   "source": [
    "def train_with_batch_size(batch_size):\n",
    "    print(f\"Training with batch size: {batch_size}\")\n",
    "\n",
    "    data_module = MNISTDataModule(batch_size=batch_size)\n",
    "    data_module.prepare_data()\n",
    "    data_module.setup()\n",
    "\n",
    "    model1 = CNN()\n",
    "    model2 = CNN()\n",
    "\n",
    "    trainer1 = Trainer(max_epochs=1)\n",
    "    trainer2 = Trainer(max_epochs=1)\n",
    "\n",
    "    trainer1.fit(model1, train_dataloaders=data_module.train_dataloader(subset=1))\n",
    "    trainer2.fit(model2, train_dataloaders=data_module.train_dataloader(subset=2))\n",
    "\n",
    "    accuracy1_before = evaluate_model(model1, data_module.train_dataloader(subset=1))\n",
    "    accuracy2_before = evaluate_model(model2, data_module.train_dataloader(subset=2))\n",
    "\n",
    "    print(f\"Accuracy Model 1 (Before Averaging): {accuracy1_before:.2f}\")\n",
    "    print(f\"Accuracy Model 2 (Before Averaging): {accuracy2_before:.2f}\")\n",
    "\n",
    "    averaged_params = average_model_parameters([model1, model2], [0.5, 0.5])\n",
    "\n",
    "    model1.load_state_dict(averaged_params)\n",
    "    model2.load_state_dict(averaged_params)\n",
    "\n",
    "    accuracy1_after = evaluate_model(model1, data_module.train_dataloader(subset=1))\n",
    "    accuracy2_after = evaluate_model(model2, data_module.train_dataloader(subset=2))\n",
    "\n",
    "    print(f\"Accuracy Model 1 (After Averaging): {accuracy1_after:.2f}\")\n",
    "    print(f\"Accuracy Model 2 (After Averaging): {accuracy2_after:.2f}\")\n",
    "\n",
    "    return {\n",
    "        \"batch_size\": batch_size,\n",
    "        \"accuracy1_before\": accuracy1_before,\n",
    "        \"accuracy2_before\": accuracy2_before,\n",
    "        \"accuracy1_after\": accuracy1_after,\n",
    "        \"accuracy2_after\": accuracy2_after,\n",
    "    }\n"
   ]
  },
  {
   "cell_type": "code",
   "execution_count": 28,
   "metadata": {},
   "outputs": [
    {
     "name": "stderr",
     "output_type": "stream",
     "text": [
      "GPU available: True (mps), used: True\n",
      "TPU available: False, using: 0 TPU cores\n",
      "HPU available: False, using: 0 HPUs\n",
      "GPU available: True (mps), used: True\n",
      "TPU available: False, using: 0 TPU cores\n",
      "HPU available: False, using: 0 HPUs\n",
      "\n",
      "  | Name      | Type             | Params | Mode \n",
      "-------------------------------------------------------\n",
      "0 | conv1     | Conv2d           | 320    | train\n",
      "1 | conv2     | Conv2d           | 18.5 K | train\n",
      "2 | fc1       | Linear           | 401 K  | train\n",
      "3 | fc2       | Linear           | 1.3 K  | train\n",
      "4 | criterion | CrossEntropyLoss | 0      | train\n",
      "-------------------------------------------------------\n",
      "421 K     Trainable params\n",
      "0         Non-trainable params\n",
      "421 K     Total params\n",
      "1.687     Total estimated model params size (MB)\n",
      "5         Modules in train mode\n",
      "0         Modules in eval mode\n",
      "/opt/homebrew/Caskroom/miniforge/base/lib/python3.10/site-packages/pytorch_lightning/trainer/connectors/data_connector.py:425: The 'train_dataloader' does not have many workers which may be a bottleneck. Consider increasing the value of the `num_workers` argument` to `num_workers=7` in the `DataLoader` to improve performance.\n",
      "/opt/homebrew/Caskroom/miniforge/base/lib/python3.10/site-packages/pytorch_lightning/loops/fit_loop.py:310: The number of training batches (12) is smaller than the logging interval Trainer(log_every_n_steps=50). Set a lower value for log_every_n_steps if you want to see logs for the training epoch.\n"
     ]
    },
    {
     "name": "stdout",
     "output_type": "stream",
     "text": [
      "Training with batch size: 50\n",
      "Epoch 0: 100%|██████████| 12/12 [00:00<00:00, 69.73it/s, v_num=8]"
     ]
    },
    {
     "name": "stderr",
     "output_type": "stream",
     "text": [
      "`Trainer.fit` stopped: `max_epochs=1` reached.\n"
     ]
    },
    {
     "name": "stdout",
     "output_type": "stream",
     "text": [
      "Epoch 0: 100%|██████████| 12/12 [00:00<00:00, 65.60it/s, v_num=8]"
     ]
    },
    {
     "name": "stderr",
     "output_type": "stream",
     "text": [
      "\n",
      "  | Name      | Type             | Params | Mode \n",
      "-------------------------------------------------------\n",
      "0 | conv1     | Conv2d           | 320    | train\n",
      "1 | conv2     | Conv2d           | 18.5 K | train\n",
      "2 | fc1       | Linear           | 401 K  | train\n",
      "3 | fc2       | Linear           | 1.3 K  | train\n",
      "4 | criterion | CrossEntropyLoss | 0      | train\n",
      "-------------------------------------------------------\n",
      "421 K     Trainable params\n",
      "0         Non-trainable params\n",
      "421 K     Total params\n",
      "1.687     Total estimated model params size (MB)\n",
      "5         Modules in train mode\n",
      "0         Modules in eval mode\n"
     ]
    },
    {
     "name": "stdout",
     "output_type": "stream",
     "text": [
      "\n",
      "Epoch 0: 100%|██████████| 1188/1188 [00:10<00:00, 113.34it/s, v_num=9]"
     ]
    },
    {
     "name": "stderr",
     "output_type": "stream",
     "text": [
      "`Trainer.fit` stopped: `max_epochs=1` reached.\n"
     ]
    },
    {
     "name": "stdout",
     "output_type": "stream",
     "text": [
      "Epoch 0: 100%|██████████| 1188/1188 [00:10<00:00, 113.26it/s, v_num=9]\n",
      "Accuracy Model 1 (Before Averaging): 0.11\n",
      "Accuracy Model 2 (Before Averaging): 0.94\n"
     ]
    },
    {
     "name": "stderr",
     "output_type": "stream",
     "text": [
      "GPU available: True (mps), used: True\n",
      "TPU available: False, using: 0 TPU cores\n",
      "HPU available: False, using: 0 HPUs\n",
      "GPU available: True (mps), used: True\n",
      "TPU available: False, using: 0 TPU cores\n",
      "HPU available: False, using: 0 HPUs\n",
      "\n",
      "  | Name      | Type             | Params | Mode \n",
      "-------------------------------------------------------\n",
      "0 | conv1     | Conv2d           | 320    | train\n",
      "1 | conv2     | Conv2d           | 18.5 K | train\n",
      "2 | fc1       | Linear           | 401 K  | train\n",
      "3 | fc2       | Linear           | 1.3 K  | train\n",
      "4 | criterion | CrossEntropyLoss | 0      | train\n",
      "-------------------------------------------------------\n",
      "421 K     Trainable params\n",
      "0         Non-trainable params\n",
      "421 K     Total params\n",
      "1.687     Total estimated model params size (MB)\n",
      "5         Modules in train mode\n",
      "0         Modules in eval mode\n",
      "/opt/homebrew/Caskroom/miniforge/base/lib/python3.10/site-packages/pytorch_lightning/loops/fit_loop.py:310: The number of training batches (24) is smaller than the logging interval Trainer(log_every_n_steps=50). Set a lower value for log_every_n_steps if you want to see logs for the training epoch.\n"
     ]
    },
    {
     "name": "stdout",
     "output_type": "stream",
     "text": [
      "Accuracy Model 1 (After Averaging): 0.84\n",
      "Accuracy Model 2 (After Averaging): 0.82\n",
      "Training with batch size: 25\n",
      "Epoch 0: 100%|██████████| 24/24 [00:00<00:00, 32.84it/s, v_num=10]"
     ]
    },
    {
     "name": "stderr",
     "output_type": "stream",
     "text": [
      "`Trainer.fit` stopped: `max_epochs=1` reached.\n"
     ]
    },
    {
     "name": "stdout",
     "output_type": "stream",
     "text": [
      "Epoch 0: 100%|██████████| 24/24 [00:00<00:00, 31.26it/s, v_num=10]"
     ]
    },
    {
     "name": "stderr",
     "output_type": "stream",
     "text": [
      "\n",
      "  | Name      | Type             | Params | Mode \n",
      "-------------------------------------------------------\n",
      "0 | conv1     | Conv2d           | 320    | train\n",
      "1 | conv2     | Conv2d           | 18.5 K | train\n",
      "2 | fc1       | Linear           | 401 K  | train\n",
      "3 | fc2       | Linear           | 1.3 K  | train\n",
      "4 | criterion | CrossEntropyLoss | 0      | train\n",
      "-------------------------------------------------------\n",
      "421 K     Trainable params\n",
      "0         Non-trainable params\n",
      "421 K     Total params\n",
      "1.687     Total estimated model params size (MB)\n",
      "5         Modules in train mode\n",
      "0         Modules in eval mode\n"
     ]
    },
    {
     "name": "stdout",
     "output_type": "stream",
     "text": [
      "\n",
      "Epoch 0: 100%|██████████| 2376/2376 [00:15<00:00, 149.46it/s, v_num=11]"
     ]
    },
    {
     "name": "stderr",
     "output_type": "stream",
     "text": [
      "`Trainer.fit` stopped: `max_epochs=1` reached.\n"
     ]
    },
    {
     "name": "stdout",
     "output_type": "stream",
     "text": [
      "Epoch 0: 100%|██████████| 2376/2376 [00:15<00:00, 149.37it/s, v_num=11]\n",
      "Accuracy Model 1 (Before Averaging): 0.25\n",
      "Accuracy Model 2 (Before Averaging): 0.96\n"
     ]
    },
    {
     "name": "stderr",
     "output_type": "stream",
     "text": [
      "GPU available: True (mps), used: True\n",
      "TPU available: False, using: 0 TPU cores\n",
      "HPU available: False, using: 0 HPUs\n",
      "GPU available: True (mps), used: True\n",
      "TPU available: False, using: 0 TPU cores\n",
      "HPU available: False, using: 0 HPUs\n",
      "\n",
      "  | Name      | Type             | Params | Mode \n",
      "-------------------------------------------------------\n",
      "0 | conv1     | Conv2d           | 320    | train\n",
      "1 | conv2     | Conv2d           | 18.5 K | train\n",
      "2 | fc1       | Linear           | 401 K  | train\n",
      "3 | fc2       | Linear           | 1.3 K  | train\n",
      "4 | criterion | CrossEntropyLoss | 0      | train\n",
      "-------------------------------------------------------\n",
      "421 K     Trainable params\n",
      "0         Non-trainable params\n",
      "421 K     Total params\n",
      "1.687     Total estimated model params size (MB)\n",
      "5         Modules in train mode\n",
      "0         Modules in eval mode\n"
     ]
    },
    {
     "name": "stdout",
     "output_type": "stream",
     "text": [
      "Accuracy Model 1 (After Averaging): 0.85\n",
      "Accuracy Model 2 (After Averaging): 0.86\n",
      "Training with batch size: 10\n",
      "Epoch 0: 100%|██████████| 60/60 [00:00<00:00, 91.82it/s, v_num=12]"
     ]
    },
    {
     "name": "stderr",
     "output_type": "stream",
     "text": [
      "`Trainer.fit` stopped: `max_epochs=1` reached.\n"
     ]
    },
    {
     "name": "stdout",
     "output_type": "stream",
     "text": [
      "Epoch 0: 100%|██████████| 60/60 [00:00<00:00, 90.66it/s, v_num=12]"
     ]
    },
    {
     "name": "stderr",
     "output_type": "stream",
     "text": [
      "\n",
      "  | Name      | Type             | Params | Mode \n",
      "-------------------------------------------------------\n",
      "0 | conv1     | Conv2d           | 320    | train\n",
      "1 | conv2     | Conv2d           | 18.5 K | train\n",
      "2 | fc1       | Linear           | 401 K  | train\n",
      "3 | fc2       | Linear           | 1.3 K  | train\n",
      "4 | criterion | CrossEntropyLoss | 0      | train\n",
      "-------------------------------------------------------\n",
      "421 K     Trainable params\n",
      "0         Non-trainable params\n",
      "421 K     Total params\n",
      "1.687     Total estimated model params size (MB)\n",
      "5         Modules in train mode\n",
      "0         Modules in eval mode\n"
     ]
    },
    {
     "name": "stdout",
     "output_type": "stream",
     "text": [
      "\n",
      "Epoch 0: 100%|██████████| 5940/5940 [00:31<00:00, 188.03it/s, v_num=13]"
     ]
    },
    {
     "name": "stderr",
     "output_type": "stream",
     "text": [
      "`Trainer.fit` stopped: `max_epochs=1` reached.\n"
     ]
    },
    {
     "name": "stdout",
     "output_type": "stream",
     "text": [
      "Epoch 0: 100%|██████████| 5940/5940 [00:31<00:00, 187.96it/s, v_num=13]\n",
      "Accuracy Model 1 (Before Averaging): 0.17\n",
      "Accuracy Model 2 (Before Averaging): 0.98\n"
     ]
    },
    {
     "name": "stderr",
     "output_type": "stream",
     "text": [
      "GPU available: True (mps), used: True\n",
      "TPU available: False, using: 0 TPU cores\n",
      "HPU available: False, using: 0 HPUs\n",
      "GPU available: True (mps), used: True\n",
      "TPU available: False, using: 0 TPU cores\n",
      "HPU available: False, using: 0 HPUs\n",
      "\n",
      "  | Name      | Type             | Params | Mode \n",
      "-------------------------------------------------------\n",
      "0 | conv1     | Conv2d           | 320    | train\n",
      "1 | conv2     | Conv2d           | 18.5 K | train\n",
      "2 | fc1       | Linear           | 401 K  | train\n",
      "3 | fc2       | Linear           | 1.3 K  | train\n",
      "4 | criterion | CrossEntropyLoss | 0      | train\n",
      "-------------------------------------------------------\n",
      "421 K     Trainable params\n",
      "0         Non-trainable params\n",
      "421 K     Total params\n",
      "1.687     Total estimated model params size (MB)\n",
      "5         Modules in train mode\n",
      "0         Modules in eval mode\n"
     ]
    },
    {
     "name": "stdout",
     "output_type": "stream",
     "text": [
      "Accuracy Model 1 (After Averaging): 0.78\n",
      "Accuracy Model 2 (After Averaging): 0.77\n",
      "Training with batch size: 5\n",
      "Epoch 0: 100%|██████████| 120/120 [00:01<00:00, 66.11it/s, v_num=14]"
     ]
    },
    {
     "name": "stderr",
     "output_type": "stream",
     "text": [
      "`Trainer.fit` stopped: `max_epochs=1` reached.\n"
     ]
    },
    {
     "name": "stdout",
     "output_type": "stream",
     "text": [
      "Epoch 0: 100%|██████████| 120/120 [00:01<00:00, 65.88it/s, v_num=14]\n"
     ]
    },
    {
     "name": "stderr",
     "output_type": "stream",
     "text": [
      "\n",
      "  | Name      | Type             | Params | Mode \n",
      "-------------------------------------------------------\n",
      "0 | conv1     | Conv2d           | 320    | train\n",
      "1 | conv2     | Conv2d           | 18.5 K | train\n",
      "2 | fc1       | Linear           | 401 K  | train\n",
      "3 | fc2       | Linear           | 1.3 K  | train\n",
      "4 | criterion | CrossEntropyLoss | 0      | train\n",
      "-------------------------------------------------------\n",
      "421 K     Trainable params\n",
      "0         Non-trainable params\n",
      "421 K     Total params\n",
      "1.687     Total estimated model params size (MB)\n",
      "5         Modules in train mode\n",
      "0         Modules in eval mode\n"
     ]
    },
    {
     "name": "stdout",
     "output_type": "stream",
     "text": [
      "Epoch 0: 100%|██████████| 11880/11880 [01:01<00:00, 193.06it/s, v_num=15]"
     ]
    },
    {
     "name": "stderr",
     "output_type": "stream",
     "text": [
      "`Trainer.fit` stopped: `max_epochs=1` reached.\n"
     ]
    },
    {
     "name": "stdout",
     "output_type": "stream",
     "text": [
      "Epoch 0: 100%|██████████| 11880/11880 [01:01<00:00, 193.03it/s, v_num=15]\n",
      "Accuracy Model 1 (Before Averaging): 0.40\n",
      "Accuracy Model 2 (Before Averaging): 0.97\n",
      "Accuracy Model 1 (After Averaging): 0.95\n",
      "Accuracy Model 2 (After Averaging): 0.96\n",
      "Batch Size: 50\n",
      "Accuracy Before Averaging - Model 1: 0.11, Model 2: 0.94\n",
      "Accuracy After Averaging - Model 1: 0.84, Model 2: 0.82\n",
      "-----\n",
      "Batch Size: 25\n",
      "Accuracy Before Averaging - Model 1: 0.25, Model 2: 0.96\n",
      "Accuracy After Averaging - Model 1: 0.85, Model 2: 0.86\n",
      "-----\n",
      "Batch Size: 10\n",
      "Accuracy Before Averaging - Model 1: 0.17, Model 2: 0.98\n",
      "Accuracy After Averaging - Model 1: 0.78, Model 2: 0.77\n",
      "-----\n",
      "Batch Size: 5\n",
      "Accuracy Before Averaging - Model 1: 0.40, Model 2: 0.97\n",
      "Accuracy After Averaging - Model 1: 0.95, Model 2: 0.96\n",
      "-----\n"
     ]
    }
   ],
   "source": [
    "batch_sizes = [50, 25, 10, 5]\n",
    "\n",
    "results = []\n",
    "\n",
    "for batch_size in batch_sizes:\n",
    "    result = train_with_batch_size(batch_size)\n",
    "    results.append(result)\n",
    "\n",
    "for res in results:\n",
    "    print(f\"Batch Size: {res['batch_size']}\")\n",
    "    print(f\"Accuracy Before Averaging - Model 1: {res['accuracy1_before']:.2f}, Model 2: {res['accuracy2_before']:.2f}\")\n",
    "    print(f\"Accuracy After Averaging - Model 1: {res['accuracy1_after']:.2f}, Model 2: {res['accuracy2_after']:.2f}\")\n",
    "    print(\"-----\")\n"
   ]
  },
  {
   "cell_type": "code",
   "execution_count": 29,
   "metadata": {},
   "outputs": [
    {
     "data": {
      "image/png": "[encoded data removed]",
      "text/plain": [
       "<Figure size 1000x600 with 1 Axes>"
      ]
     },
     "metadata": {},
     "output_type": "display_data"
    }
   ],
   "source": [
    "batch_sizes = [res[\"batch_size\"] for res in results]\n",
    "accuracy1_before = [res[\"accuracy1_before\"] for res in results]\n",
    "accuracy2_before = [res[\"accuracy2_before\"] for res in results]\n",
    "accuracy1_after = [res[\"accuracy1_after\"] for res in results]\n",
    "accuracy2_after = [res[\"accuracy2_after\"] for res in results]\n",
    "\n",
    "bar_width = 0.2\n",
    "x = range(len(batch_sizes))\n",
    "\n",
    "plt.figure(figsize=(10, 6))\n",
    "\n",
    "plt.bar([pos - bar_width for pos in x], accuracy1_before, bar_width, label=\"Model 1 Before\", alpha=0.7)\n",
    "plt.bar(x, accuracy1_after, bar_width, label=\"Model 1 After\", alpha=0.7)\n",
    "plt.bar([pos + bar_width for pos in x], accuracy2_before, bar_width, label=\"Model 2 Before\", alpha=0.7)\n",
    "plt.bar([pos + 2 * bar_width for pos in x], accuracy2_after, bar_width, label=\"Model 2 After\", alpha=0.7)\n",
    "\n",
    "plt.xlabel(\"Batch Size\", fontsize=12)\n",
    "plt.ylabel(\"Accuracy\", fontsize=12)\n",
    "plt.title(\"Accuracy Before and After Averaging for Different Batch Sizes\", fontsize=14)\n",
    "plt.xticks(x, batch_sizes, fontsize=10)\n",
    "plt.legend(fontsize=10)\n",
    "plt.grid(axis=\"y\", linestyle=\"--\", alpha=0.6)\n",
    "\n",
    "plt.tight_layout()\n",
    "plt.show()"
   ]
  },
  {
   "cell_type": "markdown",
   "metadata": {},
   "source": [
    "On peut remarquer que les grandes tailles de batch donnent de meilleures performances locales avant le moyennage grâce à des gradients plus stables. Cependant, après l'application du Federated Averaging les performances s'améliorent pour tous les modèles meme ceux entraînés avec des petits batchs."
   ]
  },
  {
   "cell_type": "markdown",
   "metadata": {},
   "source": [
    "### CIFAR-10"
   ]
  },
  {
   "cell_type": "code",
   "execution_count": 30,
   "metadata": {},
   "outputs": [],
   "source": [
    "class CIFAR10DataModule(LightningDataModule):\n",
    "    def __init__(self, batch_size=50):\n",
    "        super().__init__()\n",
    "        self.batch_size = batch_size\n",
    "\n",
    "    def prepare_data(self):\n",
    "        datasets.CIFAR10(root='./data', train=True, download=True)\n",
    "\n",
    "    def setup(self, stage=None):\n",
    "        transform = transforms.Compose([\n",
    "            transforms.ToTensor(),\n",
    "            transforms.Normalize((0.5, 0.5, 0.5), (0.5, 0.5, 0.5))\n",
    "        ])\n",
    "        full_dataset = datasets.CIFAR10(root='./data', train=True, transform=transform)\n",
    "        self.subset1, self.subset2 = random_split(full_dataset, [600, len(full_dataset) - 600])\n",
    "\n",
    "    def train_dataloader(self, subset=1):\n",
    "        subset = self.subset1 if subset == 1 else self.subset2\n",
    "        return DataLoader(subset, batch_size=self.batch_size, shuffle=True)\n"
   ]
  },
  {
   "cell_type": "code",
   "execution_count": 31,
   "metadata": {},
   "outputs": [],
   "source": [
    "class CIFARCNN(LightningModule):\n",
    "    def __init__(self):\n",
    "        super(CIFARCNN, self).__init__()\n",
    "        self.conv1 = nn.Conv2d(3, 32, kernel_size=3, stride=1, padding=1)\n",
    "        self.conv2 = nn.Conv2d(32, 64, kernel_size=3, stride=1, padding=1)\n",
    "        self.fc1 = nn.Linear(64 * 8 * 8, 128)  \n",
    "        self.fc2 = nn.Linear(128, 10)\n",
    "        self.criterion = nn.CrossEntropyLoss()\n",
    "\n",
    "    def forward(self, x):\n",
    "        x = nn.ReLU()(self.conv1(x))\n",
    "        x = nn.MaxPool2d(2)(x)\n",
    "        x = nn.ReLU()(self.conv2(x))\n",
    "        x = nn.MaxPool2d(2)(x)\n",
    "        x = x.view(x.size(0), -1)\n",
    "        x = nn.ReLU()(self.fc1(x))\n",
    "        x = self.fc2(x)\n",
    "        return x\n",
    "\n",
    "    def training_step(self, batch, batch_idx):\n",
    "        inputs, targets = batch\n",
    "        outputs = self(inputs)\n",
    "        loss = self.criterion(outputs, targets)\n",
    "        return loss\n",
    "\n",
    "    def configure_optimizers(self):\n",
    "        return optim.SGD(self.parameters(), lr=0.01)\n"
   ]
  },
  {
   "cell_type": "code",
   "execution_count": 32,
   "metadata": {},
   "outputs": [
    {
     "name": "stdout",
     "output_type": "stream",
     "text": [
      "Downloading https://www.cs.toronto.edu/~kriz/cifar-10-python.tar.gz to ./data/cifar-10-python.tar.gz\n"
     ]
    },
    {
     "name": "stderr",
     "output_type": "stream",
     "text": [
      "100%|██████████| 170M/170M [02:48<00:00, 1.01MB/s] \n"
     ]
    },
    {
     "name": "stdout",
     "output_type": "stream",
     "text": [
      "Extracting ./data/cifar-10-python.tar.gz to ./data\n"
     ]
    },
    {
     "name": "stderr",
     "output_type": "stream",
     "text": [
      "GPU available: True (mps), used: True\n",
      "TPU available: False, using: 0 TPU cores\n",
      "HPU available: False, using: 0 HPUs\n",
      "GPU available: True (mps), used: True\n",
      "TPU available: False, using: 0 TPU cores\n",
      "HPU available: False, using: 0 HPUs\n",
      "\n",
      "  | Name      | Type             | Params | Mode \n",
      "-------------------------------------------------------\n",
      "0 | conv1     | Conv2d           | 896    | train\n",
      "1 | conv2     | Conv2d           | 18.5 K | train\n",
      "2 | fc1       | Linear           | 524 K  | train\n",
      "3 | fc2       | Linear           | 1.3 K  | train\n",
      "4 | criterion | CrossEntropyLoss | 0      | train\n",
      "-------------------------------------------------------\n",
      "545 K     Trainable params\n",
      "0         Non-trainable params\n",
      "545 K     Total params\n",
      "2.180     Total estimated model params size (MB)\n",
      "5         Modules in train mode\n",
      "0         Modules in eval mode\n",
      "/opt/homebrew/Caskroom/miniforge/base/lib/python3.10/site-packages/pytorch_lightning/trainer/connectors/data_connector.py:425: The 'train_dataloader' does not have many workers which may be a bottleneck. Consider increasing the value of the `num_workers` argument` to `num_workers=7` in the `DataLoader` to improve performance.\n",
      "/opt/homebrew/Caskroom/miniforge/base/lib/python3.10/site-packages/pytorch_lightning/loops/fit_loop.py:310: The number of training batches (12) is smaller than the logging interval Trainer(log_every_n_steps=50). Set a lower value for log_every_n_steps if you want to see logs for the training epoch.\n"
     ]
    },
    {
     "name": "stdout",
     "output_type": "stream",
     "text": [
      "Epoch 0: 100%|██████████| 12/12 [00:01<00:00,  9.65it/s, v_num=16]"
     ]
    },
    {
     "name": "stderr",
     "output_type": "stream",
     "text": [
      "`Trainer.fit` stopped: `max_epochs=1` reached.\n"
     ]
    },
    {
     "name": "stdout",
     "output_type": "stream",
     "text": [
      "Epoch 0: 100%|██████████| 12/12 [00:01<00:00,  9.54it/s, v_num=16]"
     ]
    },
    {
     "name": "stderr",
     "output_type": "stream",
     "text": [
      "\n",
      "  | Name      | Type             | Params | Mode \n",
      "-------------------------------------------------------\n",
      "0 | conv1     | Conv2d           | 896    | train\n",
      "1 | conv2     | Conv2d           | 18.5 K | train\n",
      "2 | fc1       | Linear           | 524 K  | train\n",
      "3 | fc2       | Linear           | 1.3 K  | train\n",
      "4 | criterion | CrossEntropyLoss | 0      | train\n",
      "-------------------------------------------------------\n",
      "545 K     Trainable params\n",
      "0         Non-trainable params\n",
      "545 K     Total params\n",
      "2.180     Total estimated model params size (MB)\n",
      "5         Modules in train mode\n",
      "0         Modules in eval mode\n"
     ]
    },
    {
     "name": "stdout",
     "output_type": "stream",
     "text": [
      "\n",
      "Epoch 0: 100%|██████████| 988/988 [00:09<00:00, 100.56it/s, v_num=17]"
     ]
    },
    {
     "name": "stderr",
     "output_type": "stream",
     "text": [
      "`Trainer.fit` stopped: `max_epochs=1` reached.\n"
     ]
    },
    {
     "name": "stdout",
     "output_type": "stream",
     "text": [
      "Epoch 0: 100%|██████████| 988/988 [00:09<00:00, 100.50it/s, v_num=17]\n"
     ]
    }
   ],
   "source": [
    "data_module = CIFAR10DataModule(batch_size=50)\n",
    "data_module.prepare_data()\n",
    "data_module.setup()\n",
    "\n",
    "model1 = CIFARCNN()\n",
    "model2 = CIFARCNN()\n",
    "\n",
    "trainer1 = Trainer(max_epochs=1)\n",
    "trainer2 = Trainer(max_epochs=1)\n",
    "\n",
    "trainer1.fit(model1, train_dataloaders=data_module.train_dataloader(subset=1))\n",
    "trainer2.fit(model2, train_dataloaders=data_module.train_dataloader(subset=2))"
   ]
  },
  {
   "cell_type": "code",
   "execution_count": 33,
   "metadata": {},
   "outputs": [
    {
     "name": "stdout",
     "output_type": "stream",
     "text": [
      "Accuracy Model 1 (Before Averaging): 0.11\n",
      "Accuracy Model 2 (Before Averaging): 0.39\n",
      "Accuracy Model 1 (After Averaging): 0.25\n",
      "Accuracy Model 2 (After Averaging): 0.25\n"
     ]
    }
   ],
   "source": [
    "accuracy1_before = evaluate_model(model1, data_module.train_dataloader(subset=1))\n",
    "accuracy2_before = evaluate_model(model2, data_module.train_dataloader(subset=2))\n",
    "\n",
    "print(f\"Accuracy Model 1 (Before Averaging): {accuracy1_before:.2f}\")\n",
    "print(f\"Accuracy Model 2 (Before Averaging): {accuracy2_before:.2f}\")\n",
    "\n",
    "averaged_params = average_model_parameters([model1, model2], [0.5, 0.5])\n",
    "\n",
    "model1.load_state_dict(averaged_params)\n",
    "model2.load_state_dict(averaged_params)\n",
    "\n",
    "accuracy1_after = evaluate_model(model1, data_module.train_dataloader(subset=1))\n",
    "accuracy2_after = evaluate_model(model2, data_module.train_dataloader(subset=2))\n",
    "\n",
    "print(f\"Accuracy Model 1 (After Averaging): {accuracy1_after:.2f}\")\n",
    "print(f\"Accuracy Model 2 (After Averaging): {accuracy2_after:.2f}\")"
   ]
  }
 ],
 "metadata": {
  "kernelspec": {
   "display_name": "base",
   "language": "python",
   "name": "python3"
  },
  "language_info": {
   "codemirror_mode": {
    "name": "ipython",
    "version": 3
   },
   "file_extension": ".py",
   "mimetype": "text/x-python",
   "name": "python",
   "nbconvert_exporter": "python",
   "pygments_lexer": "ipython3",
   "version": "3.10.12"
  }
 },
 "nbformat": 4,
 "nbformat_minor": 2
}
